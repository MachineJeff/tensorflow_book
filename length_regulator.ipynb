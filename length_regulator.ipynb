{
 "cells": [
  {
   "cell_type": "code",
   "execution_count": 2,
   "metadata": {},
   "outputs": [
    {
     "name": "stdout",
     "output_type": "stream",
     "text": [
      "1.12.0\n",
      "1.15.4\n"
     ]
    }
   ],
   "source": [
    "import os\n",
    "import tensorflow as tf\n",
    "import numpy as np\n",
    "print(tf.__version__)\n",
    "print(np.__version__)"
   ]
  },
  {
   "cell_type": "code",
   "execution_count": 3,
   "metadata": {
    "collapsed": true
   },
   "outputs": [],
   "source": [
    "os.environ[\"CUDA_VISIBLE_DEVICES\"] = '0'\n",
    "config = tf.ConfigProto()\n",
    "config.gpu_options.per_process_gpu_memory_fraction = 0.5\n",
    "config.gpu_options.allow_growth = True"
   ]
  },
  {
   "cell_type": "code",
   "execution_count": 4,
   "metadata": {},
   "outputs": [
    {
     "name": "stdout",
     "output_type": "stream",
     "text": [
      "[1. 6. 6. 6. 6. 6. 4. 4.]\n"
     ]
    }
   ],
   "source": [
    "# without batch_size\n",
    "\n",
    "feed_a = np.array([1,2,3,6,4])\n",
    "feed_b = np.array([1,0,0,5,2])\n",
    "input_a = tf.constant(feed_a, dtype=tf.float32)\n",
    "input_b = tf.constant(feed_b, dtype=tf.int32)\n",
    "length = tf.shape(input_a)[0]\n",
    "array_size = tf.reduce_sum(input_b)\n",
    "output_c = tf.TensorArray(dtype=np.float32, size=array_size, clear_after_read=False)\n",
    "\n",
    "i = 0\n",
    "def cond_outter(input_a, input_b, output_c, i):\n",
    "    return tf.less(i, length)\n",
    "\n",
    "def loop_outter(input_a, input_b, output_c, i):\n",
    "    j = 0\n",
    "    def cond_inner(input_a, input_b, output_c, i, j):\n",
    "        return tf.less(j, input_b[i])\n",
    "\n",
    "    def loop_inner(input_a, input_b, output_c, i, j):\n",
    "        output_c = output_c.write(tf.reduce_sum(input_b[:i]) + j, input_a[i])\n",
    "        return input_a, input_b, output_c, i, j+1\n",
    "\n",
    "\n",
    "    \n",
    "    _, _, output_c, _, _ = tf.while_loop(cond=cond_inner,\n",
    "                                         body=loop_inner,\n",
    "                                         loop_vars=[input_a, input_b, output_c, i, j])\n",
    "    return input_a, input_b, output_c, i+1\n",
    "\n",
    "# result\n",
    "_, _, output_c, _ = tf.while_loop(cond=cond_outter, \n",
    "                                     body=loop_outter, \n",
    "                                     loop_vars=[input_a, input_b, output_c, i])\n",
    "\n",
    "c=output_c.stack()\n",
    "\n",
    "with tf.Session(config = config) as sess:\n",
    "    sess.run(tf.global_variables_initializer())\n",
    "    sess.run(c)\n",
    "    print(c.eval())"
   ]
  },
  {
   "cell_type": "code",
   "execution_count": 4,
   "metadata": {},
   "outputs": [
    {
     "name": "stdout",
     "output_type": "stream",
     "text": [
      "[[[1. 1.]\n",
      "  [4. 4.]\n",
      "  [4. 4.]\n",
      "  [4. 4.]\n",
      "  [4. 4.]\n",
      "  [4. 4.]\n",
      "  [0. 0.]\n",
      "  [0. 0.]\n",
      "  [0. 0.]]\n",
      "\n",
      " [[2. 2.]\n",
      "  [2. 2.]\n",
      "  [4. 4.]\n",
      "  [4. 4.]\n",
      "  [4. 4.]\n",
      "  [4. 4.]\n",
      "  [5. 5.]\n",
      "  [5. 5.]\n",
      "  [5. 5.]]]\n"
     ]
    }
   ],
   "source": [
    "# with batch_size\n",
    "\n",
    "feed_a = np.array([[[1,1],[2,2],[3,3],[4,4]],[[2,2],[3,3],[4,4],[5,5]]])\n",
    "feed_b = np.array([[1,0,0,5],[2,0,4,3]])\n",
    "input_a = tf.constant(feed_a, dtype=tf.float32)\n",
    "input_b = tf.constant(feed_b, dtype=tf.int32)\n",
    "\n",
    "batch_len = tf.shape(input_a)[0]\n",
    "batch_len = tf.cast(batch_len, tf.int32)\n",
    "max_len = tf.reduce_max(tf.reduce_sum(input_b, axis=-1))\n",
    "max_len = tf.cast(max_len, tf.int32)\n",
    "array_size = tf.cast(batch_len*max_len, tf.int32)\n",
    "\n",
    "output_c = tf.TensorArray(dtype=np.float32, size=array_size, clear_after_read=False)\n",
    "\n",
    "batch_index = 0\n",
    "def cond_outter(input_a, input_b, output_c, batch_index, max_len):\n",
    "    return tf.less(batch_index, batch_len)\n",
    "\n",
    "def loop_outter(input_a, input_b, output_c, batch_index, max_len):\n",
    "    frame = input_a[batch_index]\n",
    "    frame_repeat = input_b[batch_index]\n",
    "    \n",
    "    frame_index = 0\n",
    "    frame_len = tf.shape(frame)[0]\n",
    "    frame_len = tf.cast(frame_len, tf.int32)\n",
    "    def cond_inner(input_a, input_b, output_c, batch_index, max_len, frame, frame_repeat, frame_index, frame_len):\n",
    "        return tf.less(frame_index, frame_len)\n",
    "\n",
    "    def loop_inner(input_a, input_b, output_c, batch_index, max_len, frame, frame_repeat, frame_index, frame_len):\n",
    "        content = frame[frame_index]\n",
    "        time = 0\n",
    "        repeats = frame_repeat[frame_index]\n",
    "        repeats = tf.cast(repeats, tf.int32)\n",
    "        def cond(input_a, input_b, output_c, batch_index, max_len, frame, frame_repeat, frame_index, frame_len, time, repeats):\n",
    "            return tf.less(time, repeats)\n",
    "        def loop(input_a, input_b, output_c, batch_index, max_len, frame, frame_repeat, frame_index, frame_len, time, repeats):\n",
    "            location_batch = batch_index * max_len\n",
    "            location_frame = tf.cast(tf.reduce_sum(frame_repeat[:frame_index]), tf.int32)\n",
    "            location = location_batch + location_frame + time\n",
    "            output_c = output_c.write(location, content)\n",
    "            return input_a, input_b, output_c, batch_index, max_len, frame, frame_repeat, frame_index, frame_len, time+1, repeats\n",
    "    \n",
    "        _, _, output_c, _, _, _, _, _, _, _, _ = tf.while_loop(cond,loop,\n",
    "          [input_a, input_b, output_c, batch_index, max_len, frame, frame_repeat, frame_index, frame_len, time, repeats])\n",
    "        return input_a, input_b, output_c, batch_index, max_len, frame, frame_repeat, frame_index+1, frame_len\n",
    "\n",
    "    _, _, output_c, _, _, _, _, _, _ = tf.while_loop(cond_inner,loop_inner, \n",
    "      [input_a, input_b, output_c, batch_index, max_len, frame, frame_repeat, frame_index, frame_len])\n",
    "    return input_a, input_b, output_c, batch_index+1, max_len\n",
    "\n",
    "_, _, output_c, _, _= tf.while_loop(cond_outter,loop_outter, \n",
    "  [input_a, input_b, output_c, batch_index, max_len])\n",
    "\n",
    "c=output_c.stack()\n",
    "c=tf.reshape(c, [batch_len, -1, 2])\n",
    "\n",
    "with tf.Session(config = config) as sess:\n",
    "    sess.run(tf.global_variables_initializer())\n",
    "    sess.run(c)\n",
    "    print(c.eval())"
   ]
  },
  {
   "cell_type": "code",
   "execution_count": null,
   "metadata": {
    "collapsed": true
   },
   "outputs": [],
   "source": []
  }
 ],
 "metadata": {
  "kernelspec": {
   "display_name": "Python [conda env:tf1.12]",
   "language": "python",
   "name": "conda-env-tf1.12-py"
  },
  "language_info": {
   "codemirror_mode": {
    "name": "ipython",
    "version": 3
   },
   "file_extension": ".py",
   "mimetype": "text/x-python",
   "name": "python",
   "nbconvert_exporter": "python",
   "pygments_lexer": "ipython3",
   "version": "3.6.10"
  }
 },
 "nbformat": 4,
 "nbformat_minor": 2
}
