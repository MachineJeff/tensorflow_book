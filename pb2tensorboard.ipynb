{
 "cells": [
  {
   "cell_type": "code",
   "execution_count": null,
   "metadata": {
    "collapsed": true
   },
   "outputs": [],
   "source": [
    "import librosa\n",
    "\n",
    "model='test.pb'\n",
    "graph = tf.get_default_graph()\n",
    "graph_def = graph.as_graph_def()\n",
    "graph_def.ParseFromString(gfile.FastGFile(model, 'rb').read())\n",
    "tf.import_graph_def(graph_def, name='graph')\n",
    "summaryWriter = tf.summary.FileWriter('log/', graph)\n"
   ]
  }
 ],
 "metadata": {
  "kernelspec": {
   "display_name": "Python [conda env:tf1.12]",
   "language": "python",
   "name": "conda-env-tf1.12-py"
  },
  "language_info": {
   "codemirror_mode": {
    "name": "ipython",
    "version": 3
   },
   "file_extension": ".py",
   "mimetype": "text/x-python",
   "name": "python",
   "nbconvert_exporter": "python",
   "pygments_lexer": "ipython3",
   "version": "3.6.10"
  }
 },
 "nbformat": 4,
 "nbformat_minor": 2
}
