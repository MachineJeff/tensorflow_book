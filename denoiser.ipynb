{
 "cells": [
  {
   "cell_type": "code",
   "execution_count": 2,
   "metadata": {},
   "outputs": [
    {
     "name": "stderr",
     "output_type": "stream",
     "text": [
      "/home/yichao.li/anaconda3/envs/tf1.12/lib/python3.6/site-packages/librosa/util/decorators.py:9: NumbaDeprecationWarning: An import was requested from a module that has moved location.\n",
      "Import of 'jit' requested from: 'numba.decorators', please update to use 'numba.core.decorators' or pin to Numba version 0.48.0. This alias will not be present in Numba version 0.50.0.\n",
      "  from numba.decorators import jit as optional_jit\n"
     ]
    }
   ],
   "source": [
    "import librosa\n",
    "import numpy as np\n",
    "import tensorflow as tf"
   ]
  },
  {
   "cell_type": "code",
   "execution_count": null,
   "metadata": {
    "collapsed": true
   },
   "outputs": [],
   "source": [
    "# CPU Version\n",
    "# melgan_two_outputs: shape [2, audio_length]\n",
    "def denoiser_cpu(melgan_two_outputs, param_denoise):\n",
    "    real_audio = melgan_two_outputs[0]\n",
    "    bias_audio = melgan_two_outputs[1]\n",
    "    \n",
    "    audio_spec, audio_angles = librosa.magphase(librosa.stft(real_audio, n_fft=2048, hop_length=200, win_length=800))\n",
    "    bias_spec, _ = librosa.magphase(librosa.stft(bias_audio, n_fft=2048, hop_length=200, win_length=800))\n",
    "    \n",
    "    audio_spec_denoised = audio_spec - bias_spec * param_denoise\n",
    "    audio_spec_denoised = np.clip(audio_spec_denoised, 0.0, 999999999.9)\n",
    "    S_complex = audio_spec_denoised.astype(np.complex)\n",
    "\n",
    "    audio_denoised = librosa.istft(S_complex * audio_angles, hop_length=200, win_length=800)\n",
    "    return audio_denoised"
   ]
  },
  {
   "cell_type": "code",
   "execution_count": null,
   "metadata": {
    "collapsed": true
   },
   "outputs": [],
   "source": [
    "# GPU Version\n",
    "# melgan_two_outputs: shape [2, audio_length, 1]\n",
    "def denoiser_gpu(melgan_two_outputs, param_denoise):\n",
    "    with tf.variable_scope('denoiser'):\n",
    "        bias_audio = tf.identity(tf.squeeze(melgan_two_outputs[1], 1))\n",
    "        bias_audio = tf.expand_dims(bias_audio, 0)\n",
    "\n",
    "        real_audio = tf.identity(tf.squeeze(melgan_two_outputs[0], 1))\n",
    "        real_audio = tf.expand_dims(real_audio, 0)\n",
    "\n",
    "        bias_spec = tf.abs(tf.contrib.signal.stft(bias_audio, 800, 200, 2048))\n",
    "\n",
    "        audio_stft = tf.contrib.signal.stft(real_audio, 800, 200, 2048)\n",
    "        audio_spec = tf.abs(audio_stft)\n",
    "        audio_angles = audio_stft / tf.cast(tf.maximum(1e-8, audio_spec), tf.complex64)\n",
    "\n",
    "        param = tf.constant([param_denoise], dtype=tf.float32) \n",
    "        audio_spec_denoised = tf.subtract(audio_spec, tf.multiply(bias_spec, param))\n",
    "        audio_spec_denoised = tf.clip_by_value(audio_spec_denoised, 0.0, 999999999.9)\n",
    "        S_complex = tf.cast(audio_spec_denoised, dtype=tf.complex64)\n",
    "\n",
    "        denoiser_audio = tf.contrib.signal.inverse_stft(S_complex * audio_angles, 800, 200, 2048)\n",
    "        return tf.squeeze(denoiser_audio, 0)"
   ]
  }
 ],
 "metadata": {
  "kernelspec": {
   "display_name": "Python [conda env:tf1.12]",
   "language": "python",
   "name": "conda-env-tf1.12-py"
  },
  "language_info": {
   "codemirror_mode": {
    "name": "ipython",
    "version": 3
   },
   "file_extension": ".py",
   "mimetype": "text/x-python",
   "name": "python",
   "nbconvert_exporter": "python",
   "pygments_lexer": "ipython3",
   "version": "3.6.10"
  }
 },
 "nbformat": 4,
 "nbformat_minor": 2
}
